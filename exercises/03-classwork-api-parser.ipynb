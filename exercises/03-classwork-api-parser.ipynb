{
 "cells": [
  {
   "cell_type": "markdown",
   "metadata": {},
   "source": [
    "# Web scraping: headers, the networks tab and parsing an API URL\n",
    "## Helpful links and resources\n",
    "- [urllib](https://docs.python.org/3/library/urllib.parse.html#) is a Python library that will pick apart URLs\n",
    "- [Sessions object - request library](https://docs.python-requests.org/en/master/user/advanced/#session-objects)"
   ]
  },
  {
   "cell_type": "code",
   "execution_count": 2,
   "metadata": {},
   "outputs": [],
   "source": [
    "#import libraries\n",
    "from urllib.parse import urlparse\n",
    "import requests"
   ]
  },
  {
   "cell_type": "markdown",
   "metadata": {},
   "source": [
    "## The networks tab\n",
    "### Static data files\n",
    "[Covid cases in the US - New York Times](https://www.nytimes.com/interactive/2021/us/covid-cases.html)"
   ]
  },
  {
   "cell_type": "code",
   "execution_count": 3,
   "metadata": {},
   "outputs": [],
   "source": [
    "# get static data file\n",
    "covid_cases_r = requests.get('https://static01.nyt.com/newsgraphics/2021/coronavirus-tracking/data/pages/usa/data.json')"
   ]
  },
  {
   "cell_type": "code",
   "execution_count": 4,
   "metadata": {},
   "outputs": [],
   "source": [
    "covid_cases = covid_cases_r.json()"
   ]
  },
  {
   "cell_type": "code",
   "execution_count": 6,
   "metadata": {},
   "outputs": [],
   "source": [
    "#covid_cases"
   ]
  },
  {
   "cell_type": "markdown",
   "metadata": {},
   "source": [
    "### \"Secret\" APIs\n",
    "Shopping websites are good candidates for secret APIs, such as [Target](www.target.com)\n",
    "\n",
    "#### Target's Search API"
   ]
  },
  {
   "cell_type": "code",
   "execution_count": 10,
   "metadata": {},
   "outputs": [],
   "source": [
    "# search for an item with the networks tab open to ID which APIs you can use\n",
    "target_search_url = \"https://redsky.target.com/redsky_aggregations/v1/web/plp_search_v1?key=ff457966e64d5e877fdbad070f276d18ecec4a01&channel=WEB&count=24&default_purchasability_filter=false&include_sponsored=true&keyword=pool+float&offset=0&page=%2Fs%2Fpool+float&platform=desktop&pricing_store_id=3991&useragent=Mozilla%2F5.0+%28Macintosh%3B+Intel+Mac+OS+X+10_13_6%29+AppleWebKit%2F537.36+%28KHTML%2C+like+Gecko%29+Chrome%2F91.0.4472.114+Safari%2F537.36&visitor_id=017A8089E1D702019EF771AEBB6A55D6\""
   ]
  },
  {
   "cell_type": "code",
   "execution_count": 11,
   "metadata": {},
   "outputs": [],
   "source": [
    "# parse the URL so it's easier to read\n",
    "parsed_url = urlparse(target_search_url)"
   ]
  },
  {
   "cell_type": "code",
   "execution_count": 12,
   "metadata": {},
   "outputs": [
    {
     "data": {
      "text/plain": [
       "ParseResult(scheme='https', netloc='redsky.target.com', path='/redsky_aggregations/v1/web/plp_search_v1', params='', query='key=ff457966e64d5e877fdbad070f276d18ecec4a01&channel=WEB&count=24&default_purchasability_filter=false&include_sponsored=true&keyword=pool+float&offset=0&page=%2Fs%2Fpool+float&platform=desktop&pricing_store_id=3991&useragent=Mozilla%2F5.0+%28Macintosh%3B+Intel+Mac+OS+X+10_13_6%29+AppleWebKit%2F537.36+%28KHTML%2C+like+Gecko%29+Chrome%2F91.0.4472.114+Safari%2F537.36&visitor_id=017A8089E1D702019EF771AEBB6A55D6', fragment='')"
      ]
     },
     "execution_count": 12,
     "metadata": {},
     "output_type": "execute_result"
    }
   ],
   "source": [
    "# check the parsed URL\n",
    "parsed_url"
   ]
  },
  {
   "cell_type": "code",
   "execution_count": 13,
   "metadata": {},
   "outputs": [
    {
     "data": {
      "text/plain": [
       "'https://redsky.target.com/redsky_aggregations/v1/web/plp_search_v1'"
      ]
     },
     "execution_count": 13,
     "metadata": {},
     "output_type": "execute_result"
    }
   ],
   "source": [
    "# format the endpoint and parameters\n",
    "target_search_endpoint = parsed_url[0] + '://' + parsed_url[1] + parsed_url[2]\n",
    "target_search_endpoint"
   ]
  },
  {
   "cell_type": "code",
   "execution_count": 16,
   "metadata": {},
   "outputs": [
    {
     "data": {
      "text/plain": [
       "'key=ff457966e64d5e877fdbad070f276d18ecec4a01&channel=WEB&count=24&default_purchasability_filter=false&include_sponsored=true&keyword=pool+float&offset=0&page=%2Fs%2Fpool+float&platform=desktop&pricing_store_id=3991&useragent=Mozilla%2F5.0+%28Macintosh%3B+Intel+Mac+OS+X+10_13_6%29+AppleWebKit%2F537.36+%28KHTML%2C+like+Gecko%29+Chrome%2F91.0.4472.114+Safari%2F537.36&visitor_id=017A8089E1D702019EF771AEBB6A55D6'"
      ]
     },
     "execution_count": 16,
     "metadata": {},
     "output_type": "execute_result"
    }
   ],
   "source": [
    "parsed_url[4]"
   ]
  },
  {
   "cell_type": "code",
   "execution_count": 14,
   "metadata": {},
   "outputs": [],
   "source": [
    "#identify params\n",
    "target_search_parameters = {}\n",
    "for key_value in parsed_url[4].split('&'):\n",
    "    key_value_list = key_value.split('=')\n",
    "    target_search_parameters[key_value_list[0]] = key_value_list[1]"
   ]
  },
  {
   "cell_type": "code",
   "execution_count": 15,
   "metadata": {},
   "outputs": [
    {
     "data": {
      "text/plain": [
       "{'key': 'ff457966e64d5e877fdbad070f276d18ecec4a01',\n",
       " 'channel': 'WEB',\n",
       " 'count': '24',\n",
       " 'default_purchasability_filter': 'false',\n",
       " 'include_sponsored': 'true',\n",
       " 'keyword': 'pool+float',\n",
       " 'offset': '0',\n",
       " 'page': '%2Fs%2Fpool+float',\n",
       " 'platform': 'desktop',\n",
       " 'pricing_store_id': '3991',\n",
       " 'useragent': 'Mozilla%2F5.0+%28Macintosh%3B+Intel+Mac+OS+X+10_13_6%29+AppleWebKit%2F537.36+%28KHTML%2C+like+Gecko%29+Chrome%2F91.0.4472.114+Safari%2F537.36',\n",
       " 'visitor_id': '017A8089E1D702019EF771AEBB6A55D6'}"
      ]
     },
     "execution_count": 15,
     "metadata": {},
     "output_type": "execute_result"
    }
   ],
   "source": [
    "target_search_parameters"
   ]
  },
  {
   "cell_type": "code",
   "execution_count": 18,
   "metadata": {},
   "outputs": [
    {
     "data": {
      "text/plain": [
       "<Response [200]>"
      ]
     },
     "execution_count": 18,
     "metadata": {},
     "output_type": "execute_result"
    }
   ],
   "source": [
    "# get request with endpoint and params\n",
    "target_search_r = requests.get(target_search_endpoint, params=target_search_parameters)\n",
    "target_search_r"
   ]
  },
  {
   "cell_type": "code",
   "execution_count": 19,
   "metadata": {},
   "outputs": [],
   "source": [
    "#get the json file\n",
    "response = requests.get(target_search_endpoint, params=target_search_parameters)\n",
    "data = response.json()"
   ]
  },
  {
   "cell_type": "code",
   "execution_count": 40,
   "metadata": {},
   "outputs": [
    {
     "data": {
      "text/plain": [
       "'Fashion Pool Lounger Silver - Sun Squad&#8482;'"
      ]
     },
     "execution_count": 40,
     "metadata": {},
     "output_type": "execute_result"
    }
   ],
   "source": [
    "data['data']['search']['products'][0]['item']['product_description']['title']"
   ]
  },
  {
   "cell_type": "code",
   "execution_count": 47,
   "metadata": {},
   "outputs": [
    {
     "data": {
      "text/plain": [
       "{'key': 'ff457966e64d5e877fdbad070f276d18ecec4a01',\n",
       " 'channel': 'WEB',\n",
       " 'count': '24',\n",
       " 'default_purchasability_filter': 'false',\n",
       " 'include_sponsored': 'true',\n",
       " 'keyword': 'drinking+glass',\n",
       " 'offset': '0',\n",
       " 'page': '%2Fs%2Fdrinking+glass',\n",
       " 'platform': 'desktop',\n",
       " 'pricing_store_id': '3991',\n",
       " 'useragent': 'Mozilla%2F5.0+%28Macintosh%3B+Intel+Mac+OS+X+10_13_6%29+AppleWebKit%2F537.36+%28KHTML%2C+like+Gecko%29+Chrome%2F91.0.4472.114+Safari%2F537.36',\n",
       " 'visitor_id': '017A8089E1D702019EF771AEBB6A55D6'}"
      ]
     },
     "execution_count": 47,
     "metadata": {},
     "output_type": "execute_result"
    }
   ],
   "source": [
    "# change something in the parameters (like keyword)\n",
    "target_search_parameters1 = target_search_parameters\n",
    "target_search_parameters['keyword'] = 'drinking+glass'\n",
    "target_search_parameters['page'] = '%2Fs%2Fdrinking+glass'\n",
    "target_search_parameters1"
   ]
  },
  {
   "cell_type": "code",
   "execution_count": 48,
   "metadata": {},
   "outputs": [
    {
     "data": {
      "text/plain": [
       "<Response [200]>"
      ]
     },
     "execution_count": 48,
     "metadata": {},
     "output_type": "execute_result"
    }
   ],
   "source": [
    "#get new data via requests\n",
    "target_search_r1 = requests.get(target_search_endpoint, params=target_search_parameters1)\n",
    "target_search_r1"
   ]
  },
  {
   "cell_type": "code",
   "execution_count": 49,
   "metadata": {},
   "outputs": [],
   "source": [
    "#store as json\n",
    "response1 = requests.get(target_search_endpoint, params=target_search_parameters1)\n",
    "data1 = response1.json()"
   ]
  },
  {
   "cell_type": "code",
   "execution_count": 52,
   "metadata": {},
   "outputs": [
    {
     "data": {
      "text/plain": [
       "dict_keys(['data'])"
      ]
     },
     "execution_count": 52,
     "metadata": {},
     "output_type": "execute_result"
    }
   ],
   "source": [
    "# drill down the json file\n",
    "data1.keys()"
   ]
  },
  {
   "cell_type": "code",
   "execution_count": 53,
   "metadata": {},
   "outputs": [
    {
     "data": {
      "text/plain": [
       "'13oz Tall Glass Tumbler - Room Essentials&#8482;'"
      ]
     },
     "execution_count": 53,
     "metadata": {},
     "output_type": "execute_result"
    }
   ],
   "source": [
    "# drill down some more\n",
    "#data1['data']['search']['products'][0]\n",
    "data1['data']['search']['products'][0]['item']['product_description']['title']"
   ]
  },
  {
   "cell_type": "code",
   "execution_count": 70,
   "metadata": {},
   "outputs": [
    {
     "name": "stdout",
     "output_type": "stream",
     "text": [
      "13oz Tall Glass Tumbler - Room Essentials&#8482;\n",
      "16oz Glass Basic Pint Glass - Threshold&#8482;\n",
      "16oz 4pk Glass Clarte Tumblers - Project 62&#8482;\n",
      "12pc Glass Ridley Assorted Tumblers - Threshold&#8482;\n",
      "16.4oz Glass Stackable Tall Tumbler - Made By Design&#8482;\n",
      "16oz 6pk Tall Pressed Glass Tumblers - Threshold&#8482;\n",
      "12pc Glass Alpha Assorted Tumbler Set - Project 62&#8482;\n",
      "16oz Don&#39;t Ask Old Fashion Glass\n",
      "12oz Glass Short Rioja Tumbler - Made By Design&#8482;\n",
      "Duralex Picardie Set of 6 Short 7.75 Ounce Clear Tempered Glass Stacking Drinkware Tumbler Drinking Glasses\n",
      "12.5oz 4pk Glass Clarte Short Tumblers - Project 62&#8482;\n",
      "Telford Tumbler 12pc Glass Tumblers - Threshold&#8482;\n",
      "14oz Short Glass Tumbler - Room Essentials&#8482;\n",
      "12pc Glass Assorted Beveled Tumblers - Threshold&#8482;\n",
      "Anchor 12oz 4pk Glass Finlandia Rocks Glasses\n",
      "20oz Tall Tumbler Glass - Hearth &#38; Hand&#8482; with Magnolia\n",
      "12.9oz Glass Stackable Short Tumbler - Made By Design&#8482;\n",
      "12.5oz Glass Tremont Tall Faceted Tumbler - Threshold&#8482;\n",
      "Libbey Brockton Glass Drinkware 18pk Set six 10.5oz six 11.5oz six 13oz\n",
      "Duralex Urie 7 Ounce Clear Tempered Glass Stacking Glassware Drinkware Tumbler Drinking Glasses, Set of 6\n",
      "10.7oz 4pk Stemless Cocktail Glasses - Threshold&#8482;\n",
      "Duralex Prisme 17.5 Ounce Clear Tempered Glass Stacking Glassware Drinkware Tumbler Drinking Glasses, Set of 6\n",
      "12pc Glass Sherbrook Assorted Tumblers Smoke - Threshold&#8482;\n",
      "Riedel 0515/04S6 Sunshine Classic Crystal Long Drink All Purpose Soda Cocktail Beverage Drinking Glass, 13.9 Ounces, (2 Pack)\n"
     ]
    }
   ],
   "source": [
    "#get the list of title of the items \n",
    "for product in data1['data']['search']['products']:\n",
    "    print (product['item']['product_description']['title'])"
   ]
  },
  {
   "cell_type": "markdown",
   "metadata": {},
   "source": [
    "#### Target's aggregation API"
   ]
  },
  {
   "cell_type": "code",
   "execution_count": 3,
   "metadata": {},
   "outputs": [],
   "source": [
    "# parse the URL so it's easier to read"
   ]
  },
  {
   "cell_type": "code",
   "execution_count": 2,
   "metadata": {},
   "outputs": [],
   "source": [
    "# check the parsed URL"
   ]
  },
  {
   "cell_type": "code",
   "execution_count": 197,
   "metadata": {},
   "outputs": [],
   "source": [
    "# format the endpoint and parameters"
   ]
  },
  {
   "cell_type": "code",
   "execution_count": 198,
   "metadata": {},
   "outputs": [],
   "source": [
    "# change something in the parameters (like tcins)"
   ]
  },
  {
   "cell_type": "code",
   "execution_count": 199,
   "metadata": {},
   "outputs": [],
   "source": [
    "# get request with endpoint and params"
   ]
  },
  {
   "cell_type": "code",
   "execution_count": 1,
   "metadata": {},
   "outputs": [],
   "source": [
    "# drill down the json file"
   ]
  },
  {
   "cell_type": "code",
   "execution_count": 4,
   "metadata": {},
   "outputs": [],
   "source": [
    "# drill down some more"
   ]
  },
  {
   "cell_type": "markdown",
   "metadata": {},
   "source": [
    "## Using sessions to login\n",
    "### Accessing password-protected pages\n",
    "[Sessions object - request library](https://docs.python-requests.org/en/master/user/advanced/#session-objects)"
   ]
  },
  {
   "cell_type": "code",
   "execution_count": 170,
   "metadata": {},
   "outputs": [],
   "source": [
    "# open up a session so that your login credentials are saved"
   ]
  },
  {
   "cell_type": "code",
   "execution_count": 171,
   "metadata": {},
   "outputs": [],
   "source": [
    "# load in config file with passwords"
   ]
  },
  {
   "cell_type": "code",
   "execution_count": 172,
   "metadata": {},
   "outputs": [],
   "source": [
    "# check the website for the login parameters"
   ]
  },
  {
   "cell_type": "code",
   "execution_count": 173,
   "metadata": {},
   "outputs": [],
   "source": [
    "# post the payload to the site to login with the correct log in endpoint"
   ]
  },
  {
   "cell_type": "code",
   "execution_count": 174,
   "metadata": {},
   "outputs": [],
   "source": [
    "# check credentials to see if successful"
   ]
  },
  {
   "cell_type": "code",
   "execution_count": 175,
   "metadata": {},
   "outputs": [],
   "source": [
    "# look at an example page to get you started with a query"
   ]
  },
  {
   "cell_type": "code",
   "execution_count": 177,
   "metadata": {},
   "outputs": [],
   "source": [
    "# create a new post object from the example"
   ]
  },
  {
   "cell_type": "code",
   "execution_count": null,
   "metadata": {},
   "outputs": [],
   "source": [
    "# post request for the data"
   ]
  },
  {
   "cell_type": "code",
   "execution_count": 179,
   "metadata": {},
   "outputs": [],
   "source": [
    "# check to see what is returned"
   ]
  }
 ],
 "metadata": {
  "kernelspec": {
   "display_name": "Python 3",
   "language": "python",
   "name": "python3"
  },
  "language_info": {
   "codemirror_mode": {
    "name": "ipython",
    "version": 3
   },
   "file_extension": ".py",
   "mimetype": "text/x-python",
   "name": "python",
   "nbconvert_exporter": "python",
   "pygments_lexer": "ipython3",
   "version": "3.8.3"
  }
 },
 "nbformat": 4,
 "nbformat_minor": 5
}
