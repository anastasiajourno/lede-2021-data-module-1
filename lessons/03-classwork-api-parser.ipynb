{
 "cells": [
  {
   "cell_type": "markdown",
   "metadata": {},
   "source": [
    "# Web scraping: headers, the networks tab and parsing an API URL\n",
    "## Helpful links and resources\n",
    "- [urllib](https://docs.python.org/3/library/urllib.parse.html#) is a Python library that will pick apart URLs\n",
    "- [Sessions object - request library](https://docs.python-requests.org/en/master/user/advanced/#session-objects)"
   ]
  },
  {
   "cell_type": "code",
   "execution_count": 15,
   "metadata": {},
   "outputs": [],
   "source": [
    "#import libraries\n",
    "import pandas as pd\n",
    "import requests\n",
    "import json\n",
    "from urllib.parse import urlparse"
   ]
  },
  {
   "cell_type": "markdown",
   "metadata": {},
   "source": [
    "## The networks tab\n",
    "### Static data files\n",
    "[Covid cases in the US - New York Times](https://www.nytimes.com/interactive/2021/us/covid-cases.html)"
   ]
  },
  {
   "cell_type": "code",
   "execution_count": 2,
   "metadata": {},
   "outputs": [],
   "source": [
    "# get static data file\n",
    "covid_cases_r = requests.get('https://static01.nyt.com/newsgraphics/2021/coronavirus-tracking/data/pages/usa/data.json')"
   ]
  },
  {
   "cell_type": "code",
   "execution_count": 3,
   "metadata": {},
   "outputs": [],
   "source": [
    "covid_cases = covid_cases_r.json()"
   ]
  },
  {
   "cell_type": "code",
   "execution_count": 5,
   "metadata": {},
   "outputs": [
    {
     "data": {
      "text/plain": [
       "dict_keys(['updated', 'updated_datetime', 'location', 'counties', 'states', 'clusters', 'page_notes', 'headline_override'])"
      ]
     },
     "execution_count": 5,
     "metadata": {},
     "output_type": "execute_result"
    }
   ],
   "source": [
    "covid_cases.keys()"
   ]
  },
  {
   "cell_type": "code",
   "execution_count": 9,
   "metadata": {},
   "outputs": [],
   "source": [
    "covid_cases_df = pd.DataFrame(covid_cases['states'])"
   ]
  },
  {
   "cell_type": "code",
   "execution_count": 11,
   "metadata": {},
   "outputs": [
    {
     "data": {
      "text/html": [
       "<div>\n",
       "<style scoped>\n",
       "    .dataframe tbody tr th:only-of-type {\n",
       "        vertical-align: middle;\n",
       "    }\n",
       "\n",
       "    .dataframe tbody tr th {\n",
       "        vertical-align: top;\n",
       "    }\n",
       "\n",
       "    .dataframe thead th {\n",
       "        text-align: right;\n",
       "    }\n",
       "</style>\n",
       "<table border=\"1\" class=\"dataframe\">\n",
       "  <thead>\n",
       "    <tr style=\"text-align: right;\">\n",
       "      <th></th>\n",
       "      <th>country</th>\n",
       "      <th>display_name</th>\n",
       "      <th>nyt_abbr</th>\n",
       "      <th>geoid</th>\n",
       "      <th>href</th>\n",
       "      <th>latest</th>\n",
       "      <th>long_name</th>\n",
       "      <th>percent_change_14day</th>\n",
       "      <th>population</th>\n",
       "      <th>hospital_area_population</th>\n",
       "      <th>region</th>\n",
       "      <th>region_type</th>\n",
       "      <th>slug</th>\n",
       "      <th>state</th>\n",
       "      <th>subregion</th>\n",
       "      <th>date</th>\n",
       "      <th>population_adjustment</th>\n",
       "    </tr>\n",
       "  </thead>\n",
       "  <tbody>\n",
       "    <tr>\n",
       "      <th>0</th>\n",
       "      <td>United States</td>\n",
       "      <td>Alabama</td>\n",
       "      <td>Ala.</td>\n",
       "      <td>USA-01</td>\n",
       "      <td>https://www.nytimes.com/interactive/2021/us/al...</td>\n",
       "      <td>{'total': {'cases': 551298, 'deaths': 11358}, ...</td>\n",
       "      <td>Alabama</td>\n",
       "      <td>{'raw': {'cases': 2.2488755622188883, 'deaths'...</td>\n",
       "      <td>4903185</td>\n",
       "      <td>4903185</td>\n",
       "      <td>Alabama</td>\n",
       "      <td>state</td>\n",
       "      <td>us/alabama-covid-cases</td>\n",
       "      <td>{'us_state_fips': '01', 'name': 'Alabama', 'sh...</td>\n",
       "      <td></td>\n",
       "      <td>2021-07-04</td>\n",
       "      <td>NaN</td>\n",
       "    </tr>\n",
       "    <tr>\n",
       "      <th>1</th>\n",
       "      <td>United States</td>\n",
       "      <td>Alaska</td>\n",
       "      <td>Alaska</td>\n",
       "      <td>USA-02</td>\n",
       "      <td>https://www.nytimes.com/interactive/2021/us/al...</td>\n",
       "      <td>{'total': {'cases': 70774, 'deaths': 360}, 'av...</td>\n",
       "      <td>Alaska</td>\n",
       "      <td>{'raw': {'cases': 31.36363636363637, 'deaths':...</td>\n",
       "      <td>731545</td>\n",
       "      <td>731545</td>\n",
       "      <td>Alaska</td>\n",
       "      <td>state</td>\n",
       "      <td>us/alaska-covid-cases</td>\n",
       "      <td>{'us_state_fips': '02', 'name': 'Alaska', 'sho...</td>\n",
       "      <td></td>\n",
       "      <td>2021-07-04</td>\n",
       "      <td>NaN</td>\n",
       "    </tr>\n",
       "    <tr>\n",
       "      <th>2</th>\n",
       "      <td>United States</td>\n",
       "      <td>Arizona</td>\n",
       "      <td>Ariz.</td>\n",
       "      <td>USA-04</td>\n",
       "      <td>https://www.nytimes.com/interactive/2021/us/ar...</td>\n",
       "      <td>{'total': {'cases': 896960, 'deaths': 17979}, ...</td>\n",
       "      <td>Arizona</td>\n",
       "      <td>{'raw': {'cases': 28.168067226890734, 'deaths'...</td>\n",
       "      <td>7278717</td>\n",
       "      <td>7278717</td>\n",
       "      <td>Arizona</td>\n",
       "      <td>state</td>\n",
       "      <td>us/arizona-covid-cases</td>\n",
       "      <td>{'us_state_fips': '04', 'name': 'Arizona', 'sh...</td>\n",
       "      <td></td>\n",
       "      <td>2021-07-04</td>\n",
       "      <td>NaN</td>\n",
       "    </tr>\n",
       "    <tr>\n",
       "      <th>3</th>\n",
       "      <td>United States</td>\n",
       "      <td>Arkansas</td>\n",
       "      <td>Ark.</td>\n",
       "      <td>USA-05</td>\n",
       "      <td>https://www.nytimes.com/interactive/2021/us/ar...</td>\n",
       "      <td>{'total': {'cases': 350579, 'deaths': 5913}, '...</td>\n",
       "      <td>Arkansas</td>\n",
       "      <td>{'raw': {'cases': 102.62035344302257, 'deaths'...</td>\n",
       "      <td>3017804</td>\n",
       "      <td>3017804</td>\n",
       "      <td>Arkansas</td>\n",
       "      <td>state</td>\n",
       "      <td>us/arkansas-covid-cases</td>\n",
       "      <td>{'us_state_fips': '05', 'name': 'Arkansas', 's...</td>\n",
       "      <td></td>\n",
       "      <td>2021-07-04</td>\n",
       "      <td>NaN</td>\n",
       "    </tr>\n",
       "    <tr>\n",
       "      <th>4</th>\n",
       "      <td>United States</td>\n",
       "      <td>California</td>\n",
       "      <td>Calif.</td>\n",
       "      <td>USA-06</td>\n",
       "      <td>https://www.nytimes.com/interactive/2021/us/ca...</td>\n",
       "      <td>{'total': {'cases': 3821453, 'deaths': 63256},...</td>\n",
       "      <td>California</td>\n",
       "      <td>{'raw': {'cases': 29.026748646802258, 'deaths'...</td>\n",
       "      <td>39512223</td>\n",
       "      <td>39512223</td>\n",
       "      <td>California</td>\n",
       "      <td>state</td>\n",
       "      <td>us/california-covid-cases</td>\n",
       "      <td>{'us_state_fips': '06', 'name': 'California', ...</td>\n",
       "      <td></td>\n",
       "      <td>2021-07-04</td>\n",
       "      <td>NaN</td>\n",
       "    </tr>\n",
       "  </tbody>\n",
       "</table>\n",
       "</div>"
      ],
      "text/plain": [
       "         country display_name nyt_abbr   geoid  \\\n",
       "0  United States      Alabama     Ala.  USA-01   \n",
       "1  United States       Alaska   Alaska  USA-02   \n",
       "2  United States      Arizona    Ariz.  USA-04   \n",
       "3  United States     Arkansas     Ark.  USA-05   \n",
       "4  United States   California   Calif.  USA-06   \n",
       "\n",
       "                                                href  \\\n",
       "0  https://www.nytimes.com/interactive/2021/us/al...   \n",
       "1  https://www.nytimes.com/interactive/2021/us/al...   \n",
       "2  https://www.nytimes.com/interactive/2021/us/ar...   \n",
       "3  https://www.nytimes.com/interactive/2021/us/ar...   \n",
       "4  https://www.nytimes.com/interactive/2021/us/ca...   \n",
       "\n",
       "                                              latest   long_name  \\\n",
       "0  {'total': {'cases': 551298, 'deaths': 11358}, ...     Alabama   \n",
       "1  {'total': {'cases': 70774, 'deaths': 360}, 'av...      Alaska   \n",
       "2  {'total': {'cases': 896960, 'deaths': 17979}, ...     Arizona   \n",
       "3  {'total': {'cases': 350579, 'deaths': 5913}, '...    Arkansas   \n",
       "4  {'total': {'cases': 3821453, 'deaths': 63256},...  California   \n",
       "\n",
       "                                percent_change_14day  population  \\\n",
       "0  {'raw': {'cases': 2.2488755622188883, 'deaths'...     4903185   \n",
       "1  {'raw': {'cases': 31.36363636363637, 'deaths':...      731545   \n",
       "2  {'raw': {'cases': 28.168067226890734, 'deaths'...     7278717   \n",
       "3  {'raw': {'cases': 102.62035344302257, 'deaths'...     3017804   \n",
       "4  {'raw': {'cases': 29.026748646802258, 'deaths'...    39512223   \n",
       "\n",
       "   hospital_area_population      region region_type  \\\n",
       "0                   4903185     Alabama       state   \n",
       "1                    731545      Alaska       state   \n",
       "2                   7278717     Arizona       state   \n",
       "3                   3017804    Arkansas       state   \n",
       "4                  39512223  California       state   \n",
       "\n",
       "                        slug  \\\n",
       "0     us/alabama-covid-cases   \n",
       "1      us/alaska-covid-cases   \n",
       "2     us/arizona-covid-cases   \n",
       "3    us/arkansas-covid-cases   \n",
       "4  us/california-covid-cases   \n",
       "\n",
       "                                               state subregion        date  \\\n",
       "0  {'us_state_fips': '01', 'name': 'Alabama', 'sh...            2021-07-04   \n",
       "1  {'us_state_fips': '02', 'name': 'Alaska', 'sho...            2021-07-04   \n",
       "2  {'us_state_fips': '04', 'name': 'Arizona', 'sh...            2021-07-04   \n",
       "3  {'us_state_fips': '05', 'name': 'Arkansas', 's...            2021-07-04   \n",
       "4  {'us_state_fips': '06', 'name': 'California', ...            2021-07-04   \n",
       "\n",
       "  population_adjustment  \n",
       "0                   NaN  \n",
       "1                   NaN  \n",
       "2                   NaN  \n",
       "3                   NaN  \n",
       "4                   NaN  "
      ]
     },
     "execution_count": 11,
     "metadata": {},
     "output_type": "execute_result"
    }
   ],
   "source": [
    "covid_cases_df.head()"
   ]
  },
  {
   "cell_type": "markdown",
   "metadata": {},
   "source": [
    "### Washington Post USPS data\n",
    "[Story link](https://www.washingtonpost.com/business/interactive/2021/dejoy-usps-delays-by-zip-code-map/?utm_source=twitter&utm_campaign=wp_graphics&utm_medium=social)"
   ]
  },
  {
   "cell_type": "code",
   "execution_count": 12,
   "metadata": {},
   "outputs": [],
   "source": [
    "df = pd.read_csv('https://www.washingtonpost.com/business/interactive/2021/dejoy-usps-delays-by-zip-code-map/usps.csv')"
   ]
  },
  {
   "cell_type": "code",
   "execution_count": 13,
   "metadata": {},
   "outputs": [
    {
     "data": {
      "text/html": [
       "<div>\n",
       "<style scoped>\n",
       "    .dataframe tbody tr th:only-of-type {\n",
       "        vertical-align: middle;\n",
       "    }\n",
       "\n",
       "    .dataframe tbody tr th {\n",
       "        vertical-align: top;\n",
       "    }\n",
       "\n",
       "    .dataframe thead th {\n",
       "        text-align: right;\n",
       "    }\n",
       "</style>\n",
       "<table border=\"1\" class=\"dataframe\">\n",
       "  <thead>\n",
       "    <tr style=\"text-align: right;\">\n",
       "      <th></th>\n",
       "      <th>zip3</th>\n",
       "      <th>avg_days_cur</th>\n",
       "      <th>avg_days_new</th>\n",
       "      <th>avg_days_diff</th>\n",
       "    </tr>\n",
       "  </thead>\n",
       "  <tbody>\n",
       "    <tr>\n",
       "      <th>0</th>\n",
       "      <td>5</td>\n",
       "      <td>2.665517</td>\n",
       "      <td>3.103653</td>\n",
       "      <td>-0.438135</td>\n",
       "    </tr>\n",
       "    <tr>\n",
       "      <th>1</th>\n",
       "      <td>10</td>\n",
       "      <td>2.420418</td>\n",
       "      <td>2.778212</td>\n",
       "      <td>-0.357794</td>\n",
       "    </tr>\n",
       "    <tr>\n",
       "      <th>2</th>\n",
       "      <td>11</td>\n",
       "      <td>2.411635</td>\n",
       "      <td>2.745268</td>\n",
       "      <td>-0.333633</td>\n",
       "    </tr>\n",
       "    <tr>\n",
       "      <th>3</th>\n",
       "      <td>12</td>\n",
       "      <td>2.439943</td>\n",
       "      <td>2.809153</td>\n",
       "      <td>-0.369210</td>\n",
       "    </tr>\n",
       "    <tr>\n",
       "      <th>4</th>\n",
       "      <td>13</td>\n",
       "      <td>2.422443</td>\n",
       "      <td>2.835077</td>\n",
       "      <td>-0.412634</td>\n",
       "    </tr>\n",
       "    <tr>\n",
       "      <th>5</th>\n",
       "      <td>14</td>\n",
       "      <td>2.437847</td>\n",
       "      <td>2.854191</td>\n",
       "      <td>-0.416344</td>\n",
       "    </tr>\n",
       "    <tr>\n",
       "      <th>6</th>\n",
       "      <td>15</td>\n",
       "      <td>2.421166</td>\n",
       "      <td>2.815743</td>\n",
       "      <td>-0.394577</td>\n",
       "    </tr>\n",
       "    <tr>\n",
       "      <th>7</th>\n",
       "      <td>16</td>\n",
       "      <td>2.446946</td>\n",
       "      <td>2.885994</td>\n",
       "      <td>-0.439048</td>\n",
       "    </tr>\n",
       "    <tr>\n",
       "      <th>8</th>\n",
       "      <td>17</td>\n",
       "      <td>2.426084</td>\n",
       "      <td>2.863679</td>\n",
       "      <td>-0.437595</td>\n",
       "    </tr>\n",
       "    <tr>\n",
       "      <th>9</th>\n",
       "      <td>18</td>\n",
       "      <td>2.450887</td>\n",
       "      <td>2.838465</td>\n",
       "      <td>-0.387578</td>\n",
       "    </tr>\n",
       "  </tbody>\n",
       "</table>\n",
       "</div>"
      ],
      "text/plain": [
       "   zip3  avg_days_cur  avg_days_new  avg_days_diff\n",
       "0     5      2.665517      3.103653      -0.438135\n",
       "1    10      2.420418      2.778212      -0.357794\n",
       "2    11      2.411635      2.745268      -0.333633\n",
       "3    12      2.439943      2.809153      -0.369210\n",
       "4    13      2.422443      2.835077      -0.412634\n",
       "5    14      2.437847      2.854191      -0.416344\n",
       "6    15      2.421166      2.815743      -0.394577\n",
       "7    16      2.446946      2.885994      -0.439048\n",
       "8    17      2.426084      2.863679      -0.437595\n",
       "9    18      2.450887      2.838465      -0.387578"
      ]
     },
     "execution_count": 13,
     "metadata": {},
     "output_type": "execute_result"
    }
   ],
   "source": [
    "df.head(10)"
   ]
  },
  {
   "cell_type": "markdown",
   "metadata": {},
   "source": [
    "### \"Secret\" APIs\n",
    "Shopping websites are good candidates for secret APIs, such as [Target](www.target.com)\n",
    "\n",
    "#### Target's Search API"
   ]
  },
  {
   "cell_type": "code",
   "execution_count": 16,
   "metadata": {},
   "outputs": [],
   "source": [
    "# search for an item with the networks tab open to ID which APIs you can use\n",
    "# this URL came from Networks -> XHR -> Headers -> Request URL\n",
    "target_search_url = 'https://redsky.target.com/redsky_aggregations/v1/web/plp_search_v1?key=ff457966e64d5e877fdbad070f276d18ecec4a01&channel=WEB&count=24&default_purchasability_filter=true&include_sponsored=true&keyword=paper+plates&offset=0&page=%2Fs%2Fpaper+plates&platform=desktop&pricing_store_id=2850&scheduled_delivery_store_id=2850&store_ids=2850%2C1849%2C3284%2C3229%2C3249&useragent=Mozilla%2F5.0+%28Macintosh%3B+Intel+Mac+OS+X+10_15_7%29+AppleWebKit%2F537.36+%28KHTML%2C+like+Gecko%29+Chrome%2F91.0.4472.114+Safari%2F537.36&visitor_id=017A71BED83F0201BCBD154FC5FC4C74'"
   ]
  },
  {
   "cell_type": "code",
   "execution_count": 17,
   "metadata": {},
   "outputs": [],
   "source": [
    "# parse the URL so it's easier to read\n",
    "parsed_url = urlparse(target_search_url)"
   ]
  },
  {
   "cell_type": "code",
   "execution_count": 18,
   "metadata": {},
   "outputs": [
    {
     "data": {
      "text/plain": [
       "ParseResult(scheme='https', netloc='redsky.target.com', path='/redsky_aggregations/v1/web/plp_search_v1', params='', query='key=ff457966e64d5e877fdbad070f276d18ecec4a01&channel=WEB&count=24&default_purchasability_filter=true&include_sponsored=true&keyword=paper+plates&offset=0&page=%2Fs%2Fpaper+plates&platform=desktop&pricing_store_id=2850&scheduled_delivery_store_id=2850&store_ids=2850%2C1849%2C3284%2C3229%2C3249&useragent=Mozilla%2F5.0+%28Macintosh%3B+Intel+Mac+OS+X+10_15_7%29+AppleWebKit%2F537.36+%28KHTML%2C+like+Gecko%29+Chrome%2F91.0.4472.114+Safari%2F537.36&visitor_id=017A71BED83F0201BCBD154FC5FC4C74', fragment='')"
      ]
     },
     "execution_count": 18,
     "metadata": {},
     "output_type": "execute_result"
    }
   ],
   "source": [
    "# check the parsed URL\n",
    "parsed_url"
   ]
  },
  {
   "cell_type": "code",
   "execution_count": 21,
   "metadata": {},
   "outputs": [],
   "source": [
    "# format the endpoint and parameters\n",
    "target_search_endpoint = parsed_url[0] + '://' + parsed_url[1] + parsed_url[2]"
   ]
  },
  {
   "cell_type": "code",
   "execution_count": 22,
   "metadata": {},
   "outputs": [
    {
     "data": {
      "text/plain": [
       "'https://redsky.target.com/redsky_aggregations/v1/web/plp_search_v1'"
      ]
     },
     "execution_count": 22,
     "metadata": {},
     "output_type": "execute_result"
    }
   ],
   "source": [
    "# https://redsky.target.com/redsky_aggregations/v1/web/plp_search_v1\n",
    "target_search_endpoint"
   ]
  },
  {
   "cell_type": "code",
   "execution_count": 26,
   "metadata": {},
   "outputs": [],
   "source": [
    "# key value pairs are separated by \"&\"\n",
    "target_search_parameters = {}\n",
    "for key_value in parsed_url[4].split('&'):\n",
    "    key_value_list = key_value.split('=')\n",
    "    target_search_parameters[key_value_list[0]] = key_value_list[1]"
   ]
  },
  {
   "cell_type": "code",
   "execution_count": 27,
   "metadata": {},
   "outputs": [
    {
     "data": {
      "text/plain": [
       "{'key': 'ff457966e64d5e877fdbad070f276d18ecec4a01',\n",
       " 'channel': 'WEB',\n",
       " 'count': '24',\n",
       " 'default_purchasability_filter': 'true',\n",
       " 'include_sponsored': 'true',\n",
       " 'keyword': 'paper+plates',\n",
       " 'offset': '0',\n",
       " 'page': '%2Fs%2Fpaper+plates',\n",
       " 'platform': 'desktop',\n",
       " 'pricing_store_id': '2850',\n",
       " 'scheduled_delivery_store_id': '2850',\n",
       " 'store_ids': '2850%2C1849%2C3284%2C3229%2C3249',\n",
       " 'useragent': 'Mozilla%2F5.0+%28Macintosh%3B+Intel+Mac+OS+X+10_15_7%29+AppleWebKit%2F537.36+%28KHTML%2C+like+Gecko%29+Chrome%2F91.0.4472.114+Safari%2F537.36',\n",
       " 'visitor_id': '017A71BED83F0201BCBD154FC5FC4C74'}"
      ]
     },
     "execution_count": 27,
     "metadata": {},
     "output_type": "execute_result"
    }
   ],
   "source": [
    "target_search_parameters"
   ]
  },
  {
   "cell_type": "code",
   "execution_count": 28,
   "metadata": {},
   "outputs": [],
   "source": [
    "target_search_r = requests.get(target_search_endpoint, params=target_search_parameters)"
   ]
  },
  {
   "cell_type": "code",
   "execution_count": 39,
   "metadata": {},
   "outputs": [
    {
     "data": {
      "text/plain": [
       "{'__typename': 'ProductSummary',\n",
       " 'tcin': '75666853',\n",
       " 'original_tcin': '75666853',\n",
       " 'item': {'relationship_type': 'Stand Alone',\n",
       "  'relationship_type_code': 'SA',\n",
       "  'merchandise_classification': {'class_id': 5, 'department_id': 253},\n",
       "  'eligibility_rules': {'add_on': {'is_active': True},\n",
       "   'scheduled_delivery': {'is_active': True}},\n",
       "  'enrichment': {'buy_url': 'https://www.target.com/p/line-plaid-paper-plate-8-5-34-90ct-up-38-up-8482/-/A-75666853',\n",
       "   'images': {'primary_image_url': 'https://target.scene7.com/is/image/Target/GUEST_39b91919-bb96-44a4-a419-2257cfd40fc5',\n",
       "    'alternate_image_urls': ['https://target.scene7.com/is/image/Target/GUEST_8ffaba71-1687-4107-9e3d-c49036c358ed']}},\n",
       "  'dpci': '253-05-0356',\n",
       "  'cart_add_on_threshold': 35.0,\n",
       "  'product_description': {'title': 'Line Plaid Paper Plate 8.5&#34; - 90ct - up &#38; up&#8482;',\n",
       "   'bullet_descriptions': ['<B>Features:</B> Round (shape)',\n",
       "    '<B>Dimensions (Overall):</B> 8.55 Inches (L), 8.55 Inches (W)',\n",
       "    '<B>Package Quantity:</B> 90',\n",
       "    '<B>Material:</B> Paper'],\n",
       "   'soft_bullets': {'bullets': ['Disposable paper plates pack includes 80 microwave-safe paper plates',\n",
       "     'Grease- and cut-resistant paper construction with raised edges prevents food from spilling',\n",
       "     'Overall plaid pattern adds a decorative touch to your meals and events',\n",
       "     'Disposable dinner plates make post-party cleanup a breeze']}},\n",
       "  'product_vendors': [{'vendor_name': 'DART CONTAINER CORP.',\n",
       "    'id': '1270512'}],\n",
       "  'fulfillment': {},\n",
       "  'primary_brand': {'canonical_url': '/b/up/-/N-q643leuvcp7',\n",
       "   'name': 'up & up',\n",
       "   'facet_id': 'q643leuvcp7'}},\n",
       " 'promotions': [],\n",
       " 'price': {'current_retail': 4.49,\n",
       "  'formatted_current_price': '$4.49',\n",
       "  'formatted_current_price_type': 'reg'},\n",
       " 'ratings_and_reviews': {'statistics': {'rating': {'average': 4.71,\n",
       "    'count': 246,\n",
       "    'secondary_averages': [{'id': 'strength',\n",
       "      'label': 'strength',\n",
       "      'value': 4.23},\n",
       "     {'id': 'Quality', 'label': 'quality', 'value': 4.36},\n",
       "     {'id': 'Durable', 'label': 'durability', 'value': 4.31},\n",
       "     {'id': 'Value', 'label': 'value', 'value': 4.49}]}}}}"
      ]
     },
     "execution_count": 39,
     "metadata": {},
     "output_type": "execute_result"
    }
   ],
   "source": [
    "target_search_r.json()['data']['search']['products'][0]"
   ]
  },
  {
   "cell_type": "code",
   "execution_count": 41,
   "metadata": {},
   "outputs": [
    {
     "data": {
      "text/plain": [
       "{'key': 'ff457966e64d5e877fdbad070f276d18ecec4a01',\n",
       " 'channel': 'WEB',\n",
       " 'count': '24',\n",
       " 'default_purchasability_filter': 'true',\n",
       " 'include_sponsored': 'true',\n",
       " 'keyword': 'paper+cups',\n",
       " 'offset': '0',\n",
       " 'page': '%2Fs%2Fpaper+plates',\n",
       " 'platform': 'desktop',\n",
       " 'pricing_store_id': '2850',\n",
       " 'scheduled_delivery_store_id': '2850',\n",
       " 'store_ids': '2850%2C1849%2C3284%2C3229%2C3249',\n",
       " 'useragent': 'Mozilla%2F5.0+%28Macintosh%3B+Intel+Mac+OS+X+10_15_7%29+AppleWebKit%2F537.36+%28KHTML%2C+like+Gecko%29+Chrome%2F91.0.4472.114+Safari%2F537.36',\n",
       " 'visitor_id': '017A71BED83F0201BCBD154FC5FC4C74'}"
      ]
     },
     "execution_count": 41,
     "metadata": {},
     "output_type": "execute_result"
    }
   ],
   "source": [
    "# change something in the parameters (like keyword)\n",
    "target_search_parameters['keyword'] = 'paper+cups'\n",
    "target_search_parameters"
   ]
  },
  {
   "cell_type": "code",
   "execution_count": 42,
   "metadata": {},
   "outputs": [],
   "source": [
    "target_search_r = requests.get(target_search_endpoint, params=target_search_parameters)"
   ]
  },
  {
   "cell_type": "code",
   "execution_count": 43,
   "metadata": {},
   "outputs": [
    {
     "data": {
      "text/plain": [
       "{'__typename': 'ProductSummary',\n",
       " 'tcin': '12970172',\n",
       " 'original_tcin': '12970172',\n",
       " 'item': {'relationship_type': 'Stand Alone',\n",
       "  'relationship_type_code': 'SA',\n",
       "  'merchandise_classification': {'class_id': 5, 'department_id': 253},\n",
       "  'eligibility_rules': {'add_on': {'is_active': True},\n",
       "   'scheduled_delivery': {'is_active': True}},\n",
       "  'enrichment': {'buy_url': 'https://www.target.com/p/dixie-everyday-assorted-designs-cold-cups-54ct-9oz/-/A-12970172',\n",
       "   'images': {'primary_image_url': 'https://target.scene7.com/is/image/Target/GUEST_9b4d6235-6e2e-4c7c-a541-6babba8eec63',\n",
       "    'alternate_image_urls': ['https://target.scene7.com/is/image/Target/GUEST_d2d66bf2-7f60-444c-a286-16f29b008b5f',\n",
       "     'https://target.scene7.com/is/image/Target/GUEST_4f0f4c6a-4310-4db5-b9ff-f5ef64671679',\n",
       "     'https://target.scene7.com/is/image/Target/GUEST_5e6b372c-c099-4e8b-93b0-8611f6580497']},\n",
       "   'videos': [{'is_list_page_eligible': False,\n",
       "     'video_files': [{'mime_type': 'video/mp4',\n",
       "       'video_url': 'https://target.scene7.com/is/content/Target/GUEST_f5913f6b-af61-46a7-9e6a-a127d04a1120_Flash9_Autox720p_2600k'}]},\n",
       "    {'is_list_page_eligible': False,\n",
       "     'video_files': [{'mime_type': 'video/mp4',\n",
       "       'video_url': 'https://target.scene7.com/is/content/Target/GUEST_e831c6ba-04d7-4c74-a524-ffe3cd09a48d_Flash9_Autox720p_2600k'}]}]},\n",
       "  'dpci': '253-05-0076',\n",
       "  'cart_add_on_threshold': 35.0,\n",
       "  'product_description': {'title': 'Dixie Everyday Assorted Designs Cold Cups - 54ct/9oz',\n",
       "   'bullet_descriptions': ['<B>Dimensions (Overall):</B> 3.75 Inches (H) x 3.04 Inches (W)',\n",
       "    '<B>Capacity (Volume):</B> 9  Ounces',\n",
       "    '<B>Features:</B> Printed',\n",
       "    '<B>Package Quantity:</B> 54',\n",
       "    '<B>Food or drink type held:</B> Cold Beverages',\n",
       "    '<B>Material:</B> Paper'],\n",
       "   'soft_bullets': {'bullets': ['Includes 54 disposable 9oz cups',\n",
       "     'Leak-resistant, cut-resistant and features a Soak Proof Shield for hassle-free convenience',\n",
       "     'Attractive Paisley Splash design can be easily paired with other Dixie products, like Dixie Everyday Paper Plates',\n",
       "     'Perfect for cold drinks yet microwave safe',\n",
       "     'Built strong and sturdy, excellent for outdoor use at barbecues and picnics',\n",
       "     'Recyclable (facility must accept food-contaminated paper waste)']}},\n",
       "  'product_vendors': [{'vendor_name': 'GEORGIA PACIFIC CORP',\n",
       "    'id': '2737203'}],\n",
       "  'fulfillment': {},\n",
       "  'primary_brand': {'canonical_url': '/b/dixie/-/N-56d9e',\n",
       "   'name': 'Dixie',\n",
       "   'facet_id': '56d9e'}},\n",
       " 'promotions': [{'plp_message': '10% off Napkins',\n",
       "   'promotion_id': '876719872',\n",
       "   'promotion_class': 'Hurdle',\n",
       "   'ship_method': ['BuyInStore',\n",
       "    'SCHEDULED_DELIVERY',\n",
       "    'SCHEDULED_DELIVERY_PPO',\n",
       "    'PickupInStore',\n",
       "    'ShipToStore'],\n",
       "   'subscription_type': 'ALL',\n",
       "   'threshold_type': 'minAmount',\n",
       "   'threshold_value': 0.01,\n",
       "   'reward_type': 'PercentageOff',\n",
       "   'reward_value': 10.0,\n",
       "   'external_promotion_alternate_id': '343841',\n",
       "   'circle_offer': True}],\n",
       " 'price': {'current_retail': 3.89,\n",
       "  'formatted_current_price': '$3.89',\n",
       "  'formatted_current_price_type': 'reg'},\n",
       " 'ratings_and_reviews': {'statistics': {'rating': {'average': 4.31,\n",
       "    'count': 178,\n",
       "    'secondary_averages': [{'id': 'Quality', 'label': 'quality', 'value': 4.3},\n",
       "     {'id': 'Value', 'label': 'value', 'value': 4.0},\n",
       "     {'id': 'strength', 'label': 'strength', 'value': 4.2},\n",
       "     {'id': 'Durable', 'label': 'durability', 'value': 4.2}]}}}}"
      ]
     },
     "execution_count": 43,
     "metadata": {},
     "output_type": "execute_result"
    }
   ],
   "source": [
    "target_search_r.json()['data']['search']['products'][0]"
   ]
  },
  {
   "cell_type": "code",
   "execution_count": 44,
   "metadata": {},
   "outputs": [],
   "source": [
    "# get request with endpoint and params\n",
    "target_aggregate_url = 'https://redsky.target.com/redsky_aggregations/v1/web/plp_fulfillment_v1?key=ff457966e64d5e877fdbad070f276d18ecec4a01&tcins=13025050%2C17316119%2C78327970%2C13025048%2C53413908%2C78327963%2C75564425%2C14477565%2C78327952%2C13356889%2C16889463%2C78327958%2C75661937%2C47021025%2C18813263%2C75661939%2C14762347%2C14477283%2C76078874%2C50335649%2C13937463%2C76150031%2C47981892%2C13636299%2C13162871%2C75564405%2C52297080%2C50335768&store_id=2850&zip=11201&state=NY&latitude=40.690&longitude=-74.000&scheduled_delivery_store_id=2850'"
   ]
  },
  {
   "cell_type": "code",
   "execution_count": 46,
   "metadata": {},
   "outputs": [
    {
     "data": {
      "text/plain": [
       "ParseResult(scheme='https', netloc='redsky.target.com', path='/redsky_aggregations/v1/web/plp_fulfillment_v1', params='', query='key=ff457966e64d5e877fdbad070f276d18ecec4a01&tcins=13025050%2C17316119%2C78327970%2C13025048%2C53413908%2C78327963%2C75564425%2C14477565%2C78327952%2C13356889%2C16889463%2C78327958%2C75661937%2C47021025%2C18813263%2C75661939%2C14762347%2C14477283%2C76078874%2C50335649%2C13937463%2C76150031%2C47981892%2C13636299%2C13162871%2C75564405%2C52297080%2C50335768&store_id=2850&zip=11201&state=NY&latitude=40.690&longitude=-74.000&scheduled_delivery_store_id=2850', fragment='')"
      ]
     },
     "execution_count": 46,
     "metadata": {},
     "output_type": "execute_result"
    }
   ],
   "source": [
    "# parse this url\n",
    "parsed_url = urlparse(target_aggregate_url)\n",
    "parsed_url"
   ]
  },
  {
   "cell_type": "code",
   "execution_count": 48,
   "metadata": {},
   "outputs": [],
   "source": [
    "# drill down the json file\n",
    "# key value pairs are separated by \"&\"\n",
    "def parse_target_url(url):\n",
    "    params = {}\n",
    "    for key_value in url[4].split('&'):\n",
    "        key_value_list = key_value.split('=')\n",
    "        params[key_value_list[0]] = key_value_list[1]\n",
    "    return params"
   ]
  },
  {
   "cell_type": "code",
   "execution_count": 49,
   "metadata": {},
   "outputs": [],
   "source": [
    "target_aggregate_params = parse_target_url(parsed_url)"
   ]
  },
  {
   "cell_type": "code",
   "execution_count": 50,
   "metadata": {},
   "outputs": [
    {
     "data": {
      "text/plain": [
       "{'key': 'ff457966e64d5e877fdbad070f276d18ecec4a01',\n",
       " 'tcins': '13025050%2C17316119%2C78327970%2C13025048%2C53413908%2C78327963%2C75564425%2C14477565%2C78327952%2C13356889%2C16889463%2C78327958%2C75661937%2C47021025%2C18813263%2C75661939%2C14762347%2C14477283%2C76078874%2C50335649%2C13937463%2C76150031%2C47981892%2C13636299%2C13162871%2C75564405%2C52297080%2C50335768',\n",
       " 'store_id': '2850',\n",
       " 'zip': '11201',\n",
       " 'state': 'NY',\n",
       " 'latitude': '40.690',\n",
       " 'longitude': '-74.000',\n",
       " 'scheduled_delivery_store_id': '2850'}"
      ]
     },
     "execution_count": 50,
     "metadata": {},
     "output_type": "execute_result"
    }
   ],
   "source": [
    "target_aggregate_params"
   ]
  },
  {
   "cell_type": "code",
   "execution_count": 51,
   "metadata": {},
   "outputs": [],
   "source": [
    "target_aggregate_endpoint = parsed_url[0] + '://' + parsed_url[1] + parsed_url[2]"
   ]
  },
  {
   "cell_type": "code",
   "execution_count": 52,
   "metadata": {},
   "outputs": [],
   "source": [
    "target_aggregate_params['tcins'] = '12970172'"
   ]
  },
  {
   "cell_type": "code",
   "execution_count": 53,
   "metadata": {},
   "outputs": [
    {
     "data": {
      "text/plain": [
       "{'key': 'ff457966e64d5e877fdbad070f276d18ecec4a01',\n",
       " 'tcins': '12970172',\n",
       " 'store_id': '2850',\n",
       " 'zip': '11201',\n",
       " 'state': 'NY',\n",
       " 'latitude': '40.690',\n",
       " 'longitude': '-74.000',\n",
       " 'scheduled_delivery_store_id': '2850'}"
      ]
     },
     "execution_count": 53,
     "metadata": {},
     "output_type": "execute_result"
    }
   ],
   "source": [
    "target_aggregate_params"
   ]
  },
  {
   "cell_type": "code",
   "execution_count": 54,
   "metadata": {},
   "outputs": [],
   "source": [
    "target_aggregate_r = requests.get(target_aggregate_endpoint, params=target_aggregate_params)"
   ]
  },
  {
   "cell_type": "code",
   "execution_count": 55,
   "metadata": {},
   "outputs": [
    {
     "data": {
      "text/plain": [
       "{'data': {'product_summaries': [{'__typename': 'ProductSummary',\n",
       "    'tcin': '12970172',\n",
       "    'fulfillment': {'product_id': '12970172',\n",
       "     'is_out_of_stock_in_all_store_locations': False,\n",
       "     'shipping_options': {'availability_status': 'IN_STOCK',\n",
       "      'loyalty_availability_status': 'IN_STOCK',\n",
       "      'available_to_promise_quantity': 17241.0,\n",
       "      'minimum_order_quantity': 1.0,\n",
       "      'services': [{'shipping_method_id': 'STANDARD',\n",
       "        'min_delivery_date': '2021-07-08',\n",
       "        'max_delivery_date': '2021-07-08',\n",
       "        'is_two_day_shipping': True,\n",
       "        'is_base_shipping_method': True,\n",
       "        'service_level_description': '2-day shipping',\n",
       "        'shipping_method_short_description': 'Standard',\n",
       "        'cutoff': '2021-07-06T16:00:00Z'}]},\n",
       "     'store_options': [{'location_name': 'Brooklyn Fulton St',\n",
       "       'location_address': '445 Albee Square West,BROOKLYN,NY,11201-3016',\n",
       "       'location_id': '2850',\n",
       "       'search_response_store_type': 'PRIMARY',\n",
       "       'order_pickup': {'pickup_date': '2021-07-05',\n",
       "        'guest_pick_sla': 120,\n",
       "        'availability_status': 'IN_STOCK'},\n",
       "       'in_store_only': {'availability_status': 'IN_STOCK'}}],\n",
       "     'scheduled_delivery': {'availability_status': 'IN_STOCK'}}}]}}"
      ]
     },
     "execution_count": 55,
     "metadata": {},
     "output_type": "execute_result"
    }
   ],
   "source": [
    "target_aggregate_r.json()"
   ]
  },
  {
   "cell_type": "code",
   "execution_count": 192,
   "metadata": {},
   "outputs": [],
   "source": [
    "# drill down some more"
   ]
  },
  {
   "cell_type": "code",
   "execution_count": null,
   "metadata": {},
   "outputs": [],
   "source": [
    "selected_item_urls = ['/p/casabella-infuse-bathroom-microfiber-cloths-2pk/-/A-78327970']"
   ]
  },
  {
   "cell_type": "markdown",
   "metadata": {},
   "source": [
    "#### Target's aggregation API"
   ]
  },
  {
   "cell_type": "code",
   "execution_count": 195,
   "metadata": {},
   "outputs": [],
   "source": [
    "# parse the URL so it's easier to read\n",
    "target_list = urlparse('https://redsky.target.com/redsky_aggregations/v1/web/plp_fulfillment_v1?key=ff457966e64d5e877fdbad070f276d18ecec4a01&tcins=81107269%2C81068829%2C14135567%2C81068792%2C82079503%2C81829962%2C81068790%2C81506339%2C80935950%2C81107259%2C81068797%2C11069188%2C81506334%2C81107271%2C81068773%2C81180792%2C81107267%2C81068789%2C81068796%2C81506336%2C81107268%2C81068821%2C81564691%2C81953908%2C81068815%2C81068825%2C81068787%2C81564688&store_id=2850&zip=11201&state=NY&latitude=40.690&longitude=-74.000&scheduled_delivery_store_id=2850')"
   ]
  },
  {
   "cell_type": "code",
   "execution_count": 196,
   "metadata": {},
   "outputs": [
    {
     "data": {
      "text/plain": [
       "ParseResult(scheme='https', netloc='redsky.target.com', path='/redsky_aggregations/v1/web/plp_fulfillment_v1', params='', query='key=ff457966e64d5e877fdbad070f276d18ecec4a01&tcins=81107269%2C81068829%2C14135567%2C81068792%2C82079503%2C81829962%2C81068790%2C81506339%2C80935950%2C81107259%2C81068797%2C11069188%2C81506334%2C81107271%2C81068773%2C81180792%2C81107267%2C81068789%2C81068796%2C81506336%2C81107268%2C81068821%2C81564691%2C81953908%2C81068815%2C81068825%2C81068787%2C81564688&store_id=2850&zip=11201&state=NY&latitude=40.690&longitude=-74.000&scheduled_delivery_store_id=2850', fragment='')"
      ]
     },
     "execution_count": 196,
     "metadata": {},
     "output_type": "execute_result"
    }
   ],
   "source": [
    "# check the parsed URL\n",
    "target_list"
   ]
  },
  {
   "cell_type": "code",
   "execution_count": 197,
   "metadata": {},
   "outputs": [],
   "source": [
    "# format the endpoint and parameters\n",
    "target_list_endpoint = target_list[0] + '://' + target_list[1] + target_list[2]\n",
    "target_list_params = {}\n",
    "for parameter in target_list[4].split('&'):\n",
    "    key_value = parameter.split('=')\n",
    "    target_list_params[key_value[0]] = key_value[1]"
   ]
  },
  {
   "cell_type": "code",
   "execution_count": 198,
   "metadata": {},
   "outputs": [],
   "source": [
    "# change something in the parameters (like tcins)\n",
    "target_list_params['tcins'] = '81107269'"
   ]
  },
  {
   "cell_type": "code",
   "execution_count": 199,
   "metadata": {},
   "outputs": [],
   "source": [
    "# get request with endpoint and params\n",
    "target_list_r = requests.get(target_list_endpoint, params=target_list_params)"
   ]
  },
  {
   "cell_type": "code",
   "execution_count": 201,
   "metadata": {},
   "outputs": [
    {
     "data": {
      "text/plain": [
       "[{'__typename': 'ProductSummary',\n",
       "  'tcin': '81107269',\n",
       "  'fulfillment': {'product_id': '81107269',\n",
       "   'is_out_of_stock_in_all_store_locations': False,\n",
       "   'shipping_options': {'availability_status': 'IN_STOCK',\n",
       "    'loyalty_availability_status': 'IN_STOCK',\n",
       "    'available_to_promise_quantity': 399.0,\n",
       "    'minimum_order_quantity': 1.0,\n",
       "    'services': [{'shipping_method_id': 'STANDARD',\n",
       "      'min_delivery_date': '2021-07-08',\n",
       "      'max_delivery_date': '2021-07-08',\n",
       "      'is_two_day_shipping': True,\n",
       "      'is_base_shipping_method': True,\n",
       "      'service_level_description': '2-day shipping',\n",
       "      'shipping_method_short_description': 'Standard',\n",
       "      'cutoff': '2021-07-05T16:00:00Z'}]},\n",
       "   'store_options': [{'location_name': 'Brooklyn Fulton St',\n",
       "     'location_address': '445 Albee Square West,BROOKLYN,NY,11201-3016',\n",
       "     'location_id': '2850',\n",
       "     'search_response_store_type': 'PRIMARY',\n",
       "     'order_pickup': {'availability_status': 'UNAVAILABLE',\n",
       "      'reason_code': 'IN_ELIGIBLE'},\n",
       "     'in_store_only': {'availability_status': 'NOT_SOLD_IN_STORE'},\n",
       "     'ship_to_store': {'max_pickup_date': '2021-07-09',\n",
       "      'min_pickup_date': '2021-07-09',\n",
       "      'availability_status': 'IN_STOCK'}}],\n",
       "   'scheduled_delivery': {'availability_status': 'UNAVAILABLE'}}}]"
      ]
     },
     "execution_count": 201,
     "metadata": {},
     "output_type": "execute_result"
    }
   ],
   "source": [
    "# drill down the json file\n",
    "target_list_r.json()['data']['product_summaries']"
   ]
  },
  {
   "cell_type": "code",
   "execution_count": 203,
   "metadata": {},
   "outputs": [
    {
     "data": {
      "text/plain": [
       "{'__typename': 'ProductSummary',\n",
       " 'tcin': '81107269',\n",
       " 'fulfillment': {'product_id': '81107269',\n",
       "  'is_out_of_stock_in_all_store_locations': False,\n",
       "  'shipping_options': {'availability_status': 'IN_STOCK',\n",
       "   'loyalty_availability_status': 'IN_STOCK',\n",
       "   'available_to_promise_quantity': 399.0,\n",
       "   'minimum_order_quantity': 1.0,\n",
       "   'services': [{'shipping_method_id': 'STANDARD',\n",
       "     'min_delivery_date': '2021-07-08',\n",
       "     'max_delivery_date': '2021-07-08',\n",
       "     'is_two_day_shipping': True,\n",
       "     'is_base_shipping_method': True,\n",
       "     'service_level_description': '2-day shipping',\n",
       "     'shipping_method_short_description': 'Standard',\n",
       "     'cutoff': '2021-07-05T16:00:00Z'}]},\n",
       "  'store_options': [{'location_name': 'Brooklyn Fulton St',\n",
       "    'location_address': '445 Albee Square West,BROOKLYN,NY,11201-3016',\n",
       "    'location_id': '2850',\n",
       "    'search_response_store_type': 'PRIMARY',\n",
       "    'order_pickup': {'availability_status': 'UNAVAILABLE',\n",
       "     'reason_code': 'IN_ELIGIBLE'},\n",
       "    'in_store_only': {'availability_status': 'NOT_SOLD_IN_STORE'},\n",
       "    'ship_to_store': {'max_pickup_date': '2021-07-09',\n",
       "     'min_pickup_date': '2021-07-09',\n",
       "     'availability_status': 'IN_STOCK'}}],\n",
       "  'scheduled_delivery': {'availability_status': 'UNAVAILABLE'}}}"
      ]
     },
     "execution_count": 203,
     "metadata": {},
     "output_type": "execute_result"
    }
   ],
   "source": [
    "# drill down some more\n",
    "target_list_r.json()['data']['product_summaries'][0]"
   ]
  },
  {
   "cell_type": "markdown",
   "metadata": {},
   "source": [
    "## Using sessions to login\n",
    "### Accessing password-protected pages\n",
    "[Sessions object - request library](https://docs.python-requests.org/en/master/user/advanced/#session-objects)"
   ]
  },
  {
   "cell_type": "code",
   "execution_count": 170,
   "metadata": {},
   "outputs": [],
   "source": [
    "# open up a session so that your login credentials are saved"
   ]
  },
  {
   "cell_type": "code",
   "execution_count": 171,
   "metadata": {},
   "outputs": [],
   "source": [
    "# load in config file with passwords"
   ]
  },
  {
   "cell_type": "code",
   "execution_count": 172,
   "metadata": {},
   "outputs": [],
   "source": [
    "# check the website for the login parameters"
   ]
  },
  {
   "cell_type": "code",
   "execution_count": 173,
   "metadata": {},
   "outputs": [],
   "source": [
    "# post the payload to the site to login with the correct log in endpoint"
   ]
  },
  {
   "cell_type": "code",
   "execution_count": 174,
   "metadata": {},
   "outputs": [],
   "source": [
    "# check credentials to see if successful"
   ]
  },
  {
   "cell_type": "code",
   "execution_count": 175,
   "metadata": {},
   "outputs": [],
   "source": [
    "# look at an example page to get you started with a query"
   ]
  },
  {
   "cell_type": "code",
   "execution_count": 177,
   "metadata": {},
   "outputs": [],
   "source": [
    "# create a new post object from the example"
   ]
  },
  {
   "cell_type": "code",
   "execution_count": null,
   "metadata": {},
   "outputs": [],
   "source": [
    "# post request for the data"
   ]
  },
  {
   "cell_type": "code",
   "execution_count": 179,
   "metadata": {},
   "outputs": [],
   "source": [
    "# check to see what is returned"
   ]
  },
  {
   "cell_type": "code",
   "execution_count": null,
   "metadata": {},
   "outputs": [],
   "source": []
  },
  {
   "cell_type": "code",
   "execution_count": null,
   "metadata": {},
   "outputs": [],
   "source": []
  }
 ],
 "metadata": {
  "kernelspec": {
   "display_name": "Python 3",
   "language": "python",
   "name": "python3"
  },
  "language_info": {
   "codemirror_mode": {
    "name": "ipython",
    "version": 3
   },
   "file_extension": ".py",
   "mimetype": "text/x-python",
   "name": "python",
   "nbconvert_exporter": "python",
   "pygments_lexer": "ipython3",
   "version": "3.8.3"
  }
 },
 "nbformat": 4,
 "nbformat_minor": 5
}
