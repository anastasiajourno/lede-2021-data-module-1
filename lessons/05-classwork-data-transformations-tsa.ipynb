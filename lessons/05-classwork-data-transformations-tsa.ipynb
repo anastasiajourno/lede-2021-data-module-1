{
 "cells": [
  {
   "cell_type": "markdown",
   "metadata": {},
   "source": [
    "# 05 - web scraping and data transformations\n",
    "\n",
    "1. [The TSA posts passenger numbers](https://www.tsa.gov/coronavirus/passenger-throughput) in a table but there is no download or API option. We can use BeautifulSoup to parse this table.\n",
    "1. Transform the TSA passenger data in two ways to create two different charts\n",
    "1. Create two charts inside this notebook with [Matplotlib](https://pandas.pydata.org/pandas-docs/stable/user_guide/visualization.html)"
   ]
  },
  {
   "cell_type": "markdown",
   "metadata": {},
   "source": [
    "__Library reference__\n",
    "- [BeautifulSoup]()\n",
    "- [pandas]()\n",
    "- [Matplot for pandas]()\n",
    "- [Datetime format codes](https://docs.python.org/3/library/datetime.html#strftime-and-strptime-format-codes)\n",
    "\n",
    "1. Turn the TSA's html table into a dataframe\n",
    "    1. Create a list of column names\n",
    "    1. Create a 2d array of data\n",
    "    1. Format the data into two columns: date and value\n",
    "1. Transform the data in two different ways for new different charts\n",
    "1. Create two charts"
   ]
  },
  {
   "cell_type": "code",
   "execution_count": 24,
   "metadata": {},
   "outputs": [],
   "source": [
    "# !pipenv uninstall matplotlib"
   ]
  },
  {
   "cell_type": "code",
   "execution_count": 2,
   "metadata": {},
   "outputs": [],
   "source": [
    "#### Import libraries\n",
    "import pandas as pd\n",
    "import requests\n",
    "from bs4 import BeautifulSoup\n",
    "from datetime import datetime, timedelta\n",
    "\n",
    "# set display format for numbers\n",
    "pd.set_option('display.float_format', lambda x: '%.3f' % x)"
   ]
  },
  {
   "cell_type": "markdown",
   "metadata": {},
   "source": [
    "## 1. Turn the TSA's html table into a dataframe"
   ]
  },
  {
   "cell_type": "code",
   "execution_count": 3,
   "metadata": {},
   "outputs": [],
   "source": [
    "# get html from from page\n",
    "tsa_r = requests.get('https://www.tsa.gov/coronavirus/passenger-throughput')"
   ]
  },
  {
   "cell_type": "code",
   "execution_count": 4,
   "metadata": {},
   "outputs": [],
   "source": [
    "# create a beautifulsoup object\n",
    "tsa_bs = BeautifulSoup(tsa_r.text)"
   ]
  },
  {
   "cell_type": "markdown",
   "metadata": {},
   "source": [
    "#### table tag\n",
    "![table selected](../answers/assets/table.png)"
   ]
  },
  {
   "cell_type": "markdown",
   "metadata": {},
   "source": [
    "### a. Create a list column names"
   ]
  },
  {
   "cell_type": "code",
   "execution_count": 6,
   "metadata": {},
   "outputs": [],
   "source": [
    "# turn thead into a column list\n",
    "thead = tsa_bs.find('thead')"
   ]
  },
  {
   "cell_type": "code",
   "execution_count": 7,
   "metadata": {},
   "outputs": [],
   "source": [
    "# then find all th elements (because there is only 1 row)\n",
    "ths = thead.find_all('th')"
   ]
  },
  {
   "cell_type": "code",
   "execution_count": 10,
   "metadata": {},
   "outputs": [],
   "source": [
    "# and loop through each th to extract the text for a list\n",
    "tsa_col = []\n",
    "for th in ths:\n",
    "    tsa_col.append(th.text.strip())"
   ]
  },
  {
   "cell_type": "code",
   "execution_count": 11,
   "metadata": {},
   "outputs": [
    {
     "data": {
      "text/plain": [
       "['Date',\n",
       " '2021 Traveler Throughput',\n",
       " '2020 Traveler Throughput',\n",
       " '2019 Traveler Throughput']"
      ]
     },
     "execution_count": 11,
     "metadata": {},
     "output_type": "execute_result"
    }
   ],
   "source": [
    "# print the list\n",
    "tsa_col"
   ]
  },
  {
   "cell_type": "markdown",
   "metadata": {},
   "source": [
    "### b. Create a 2d array of data\n",
    "![tbody example](../answers/assets/tbody.png)"
   ]
  },
  {
   "cell_type": "code",
   "execution_count": 12,
   "metadata": {},
   "outputs": [],
   "source": [
    "# turn data into an array of arrays (2d array)\n",
    "tbody = tsa_bs.find('tbody')"
   ]
  },
  {
   "cell_type": "code",
   "execution_count": 13,
   "metadata": {},
   "outputs": [],
   "source": [
    "# turn tr tags into a list\n",
    "trs = tbody.find_all('tr')"
   ]
  },
  {
   "cell_type": "code",
   "execution_count": 14,
   "metadata": {},
   "outputs": [],
   "source": [
    "# create a list of td tags inside each tr list\n",
    "tr_list = []\n",
    "for tr in trs:\n",
    "    tds = tr.find_all('td')\n",
    "    td_list = []\n",
    "    for td in tds:\n",
    "        td_list.append(td.text.strip())\n",
    "    tr_list.append(td_list)"
   ]
  },
  {
   "cell_type": "code",
   "execution_count": 15,
   "metadata": {},
   "outputs": [
    {
     "data": {
      "text/plain": [
       "(365,\n",
       " [['7/6/2021', '1,889,911', '641,761', '2,506,859'],\n",
       "  ['7/5/2021', '2,160,147', '755,555', '2,748,718']])"
      ]
     },
     "execution_count": 15,
     "metadata": {},
     "output_type": "execute_result"
    }
   ],
   "source": [
    "# Check the length of the list and the first couple of items\n",
    "len(tr_list), tr_list[0:2]"
   ]
  },
  {
   "cell_type": "markdown",
   "metadata": {},
   "source": [
    "### c. Format the data into two columns: date and value"
   ]
  },
  {
   "cell_type": "code",
   "execution_count": 47,
   "metadata": {},
   "outputs": [],
   "source": [
    "# create a function that will generate dates of preceding years\n",
    "def format_date(d, column_year):\n",
    "    date_f = datetime.strptime(d, '%m/%d/%Y')\n",
    "    new_date = date_f - timedelta(weeks=column_year*52)\n",
    "    return new_date"
   ]
  },
  {
   "cell_type": "code",
   "execution_count": 48,
   "metadata": {},
   "outputs": [
    {
     "name": "stdout",
     "output_type": "stream",
     "text": [
      "2020-07-07 00:00:00\n",
      "2020-07-06 00:00:00\n",
      "2020-07-05 00:00:00\n",
      "2020-07-04 00:00:00\n"
     ]
    }
   ],
   "source": [
    "# this double loop can be combined with the loop above that generates tr_list\n",
    "# but i want to separate text extraction from formatting\n",
    "passengers_per_day = []\n",
    "# for each tr\n",
    "for tr in tr_list[0:4]:\n",
    "    # we need to find dates for 2020 and 2019 and align them with the html table format\n",
    "    # turn string into date object so we can perform datetime calculations on it\n",
    "    date_2021 = datetime.strptime(tr[0], '%m/%d/%Y')\n",
    "    # the date for 2020 will be 52 weeks before \n",
    "    date_2020 = date_2021 - timedelta(weeks=52)\n",
    "    date_2020 = format_date(tr[0], 1)\n",
    "    print(date_2020)\n",
    "    # the date for 2019 will be 104 weeks before\n",
    "    date_2019 = date_2021 - timedelta(weeks=104)\n",
    "    \n",
    "    # because the above is a repeatable process, how can move this to a function?\n",
    "    date_list = [date_2021, date_2020, date_2019]\n",
    "    \n",
    "    # for each passenger column td_list[1:]\n",
    "    for (index, passenger_column) in enumerate(tr[1:]):\n",
    "        # Create a new dictionary to populate with formatted date\n",
    "        # index being the column that corresponds to the order of dates in the date_list above\n",
    "        daily_passengers = {\n",
    "            'date': date_list[index],\n",
    "            'value': passenger_column,\n",
    "        }\n",
    "#         print(daily_passengers)\n",
    "        passengers_per_day.append(daily_passengers)\n",
    "        # if value does exist, change it to an integer (or else there will be an error on missing values)\n",
    "        \n",
    "            # add each newly created dictionary to passengers_per_day list"
   ]
  },
  {
   "cell_type": "code",
   "execution_count": 32,
   "metadata": {},
   "outputs": [
    {
     "data": {
      "text/plain": [
       "1095"
      ]
     },
     "execution_count": 32,
     "metadata": {},
     "output_type": "execute_result"
    }
   ],
   "source": [
    "passengers_per_day"
   ]
  },
  {
   "cell_type": "code",
   "execution_count": 39,
   "metadata": {},
   "outputs": [],
   "source": [
    "tsa_df = pd.DataFrame(passengers_per_day)\n",
    "\n",
    "tsa_df = tsa_df.sort_values('date', ascending=True)\n",
    "\n",
    "tsa_df = tsa_df.drop_duplicates(subset=['date'])"
   ]
  },
  {
   "cell_type": "code",
   "execution_count": 40,
   "metadata": {},
   "outputs": [
    {
     "data": {
      "text/plain": [
       "(1093, 1093)"
      ]
     },
     "execution_count": 40,
     "metadata": {},
     "output_type": "execute_result"
    }
   ],
   "source": [
    "len(tsa_df), len(tsa_df['date'].unique())"
   ]
  },
  {
   "cell_type": "code",
   "execution_count": 46,
   "metadata": {},
   "outputs": [
    {
     "data": {
      "text/html": [
       "<div>\n",
       "<style scoped>\n",
       "    .dataframe tbody tr th:only-of-type {\n",
       "        vertical-align: middle;\n",
       "    }\n",
       "\n",
       "    .dataframe tbody tr th {\n",
       "        vertical-align: top;\n",
       "    }\n",
       "\n",
       "    .dataframe thead th {\n",
       "        text-align: right;\n",
       "    }\n",
       "</style>\n",
       "<table border=\"1\" class=\"dataframe\">\n",
       "  <thead>\n",
       "    <tr style=\"text-align: right;\">\n",
       "      <th></th>\n",
       "      <th>date</th>\n",
       "      <th>value</th>\n",
       "    </tr>\n",
       "  </thead>\n",
       "  <tbody>\n",
       "  </tbody>\n",
       "</table>\n",
       "</div>"
      ],
      "text/plain": [
       "Empty DataFrame\n",
       "Columns: [date, value]\n",
       "Index: []"
      ]
     },
     "execution_count": 46,
     "metadata": {},
     "output_type": "execute_result"
    }
   ],
   "source": [
    "tsa_df[tsa_df['value'] == 0]"
   ]
  },
  {
   "cell_type": "code",
   "execution_count": 23,
   "metadata": {},
   "outputs": [],
   "source": [
    "# check if days of the week line up"
   ]
  },
  {
   "cell_type": "code",
   "execution_count": 13,
   "metadata": {},
   "outputs": [],
   "source": [
    "# print(tr_list[0][1:])"
   ]
  },
  {
   "cell_type": "code",
   "execution_count": 14,
   "metadata": {},
   "outputs": [],
   "source": [
    "# turn passengers_per_day into a DataFrame with \"date\" \"value\" columns\n",
    "\n",
    "# sort dates from latest to earliest\n",
    "\n",
    "# delete duplicates"
   ]
  },
  {
   "cell_type": "markdown",
   "metadata": {},
   "source": [
    "## 2. Transform the data in two different ways for two different charts\n",
    "[What's moving average and why are they used? - Dallas FED](https://www.dallasfed.org/research/basics/moving.aspx)"
   ]
  },
  {
   "cell_type": "markdown",
   "metadata": {},
   "source": [
    "### a. Calculate 7-day moving average"
   ]
  },
  {
   "cell_type": "code",
   "execution_count": 16,
   "metadata": {},
   "outputs": [],
   "source": [
    "# display the last 7 rows"
   ]
  },
  {
   "cell_type": "code",
   "execution_count": 17,
   "metadata": {},
   "outputs": [],
   "source": [
    "# write a function that takes the current date and 6 previous dates and averages them\n",
    "def moving_average(row):\n",
    "    \n",
    "    return row"
   ]
  },
  {
   "cell_type": "markdown",
   "metadata": {},
   "source": [
    "[Read up on pandas' apply method](https://pandas.pydata.org/pandas-docs/stable/reference/api/pandas.DataFrame.apply.html)"
   ]
  },
  {
   "cell_type": "code",
   "execution_count": 20,
   "metadata": {},
   "outputs": [],
   "source": [
    "# calculate 7-day moving average in a new column and start 7 days in (note: result_type apply)\n",
    "# set the date as the index for matplot"
   ]
  },
  {
   "cell_type": "markdown",
   "metadata": {},
   "source": [
    "### b. Group data by weeks"
   ]
  },
  {
   "cell_type": "code",
   "execution_count": 21,
   "metadata": {},
   "outputs": [],
   "source": [
    "# create a function to get day of the first day of the week\n",
    "def weekday_start(row):\n",
    "    \n",
    "    return row"
   ]
  },
  {
   "cell_type": "code",
   "execution_count": 24,
   "metadata": {},
   "outputs": [],
   "source": [
    "# create a new column that IDs the start date of the week"
   ]
  },
  {
   "cell_type": "code",
   "execution_count": 22,
   "metadata": {},
   "outputs": [],
   "source": [
    "# groupby week start turn the groupby object into a dataframe"
   ]
  },
  {
   "cell_type": "markdown",
   "metadata": {},
   "source": [
    "## 3. Create two charts - one for 7-day moving average and one for week totals\n",
    "Create a bar chart of the daily values for reference"
   ]
  },
  {
   "cell_type": "code",
   "execution_count": 25,
   "metadata": {},
   "outputs": [],
   "source": [
    "# create a bar chart for daily values"
   ]
  },
  {
   "cell_type": "markdown",
   "metadata": {},
   "source": [
    "### a. 7-day moving average"
   ]
  },
  {
   "cell_type": "code",
   "execution_count": 26,
   "metadata": {},
   "outputs": [],
   "source": [
    "# plot a 7-day average line chart"
   ]
  },
  {
   "cell_type": "markdown",
   "metadata": {},
   "source": [
    "### b. By weekly totals"
   ]
  },
  {
   "cell_type": "code",
   "execution_count": 28,
   "metadata": {},
   "outputs": [],
   "source": [
    "# plot as weeks as a line chart"
   ]
  }
 ],
 "metadata": {
  "kernelspec": {
   "display_name": "Lede2021-fTxvBHm",
   "language": "python",
   "name": "lede2021-ftxvbhm"
  },
  "language_info": {
   "codemirror_mode": {
    "name": "ipython",
    "version": 3
   },
   "file_extension": ".py",
   "mimetype": "text/x-python",
   "name": "python",
   "nbconvert_exporter": "python",
   "pygments_lexer": "ipython3",
   "version": "3.8.10"
  }
 },
 "nbformat": 4,
 "nbformat_minor": 4
}
